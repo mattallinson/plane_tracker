{
 "cells": [
  {
   "cell_type": "code",
   "execution_count": 1,
   "id": "aa592106-301e-40b0-b76e-457378fd3097",
   "metadata": {
    "tags": []
   },
   "outputs": [],
   "source": [
    "import planeTracker as pt\n",
    "planes = pt.get_planes()"
   ]
  },
  {
   "cell_type": "markdown",
   "id": "2ca13bd5-3198-40df-a3b7-c665602a7d5c",
   "metadata": {
    "tags": []
   },
   "source": [
    "# Flight tracking script\n",
    "\n",
    "This code uses the [airlabs API](https://airlabs.co/docs/flights) to pull the data of aircraft over London. It can show `arrivals`, `departures`,`flyovers` and `mystery` – no destination declared–, or `naughty` – within London – flights. It takes a snapshot of the flights at one moment in time and does not auto-update so needs re running with the ⏩ button every time you want to refresh."
   ]
  },
  {
   "cell_type": "code",
   "execution_count": 4,
   "id": "e3b7c11f-e63f-47ce-bbf4-a7557153e4e1",
   "metadata": {},
   "outputs": [
    {
     "data": {
      "text/html": [
       "<div>\n",
       "<style scoped>\n",
       "    .dataframe tbody tr th:only-of-type {\n",
       "        vertical-align: middle;\n",
       "    }\n",
       "\n",
       "    .dataframe tbody tr th {\n",
       "        vertical-align: top;\n",
       "    }\n",
       "\n",
       "    .dataframe thead th {\n",
       "        text-align: right;\n",
       "    }\n",
       "</style>\n",
       "<table border=\"1\" class=\"dataframe\">\n",
       "  <thead>\n",
       "    <tr style=\"text-align: right;\">\n",
       "      <th></th>\n",
       "      <th>Source</th>\n",
       "      <th>Destination</th>\n",
       "      <th>alt</th>\n",
       "      <th>reg_number</th>\n",
       "      <th>flag</th>\n",
       "    </tr>\n",
       "  </thead>\n",
       "  <tbody>\n",
       "    <tr>\n",
       "      <th>7</th>\n",
       "      <td>Brussels Airport</td>\n",
       "      <td>Miami International Airport</td>\n",
       "      <td>10347</td>\n",
       "      <td>N378CX</td>\n",
       "      <td>US</td>\n",
       "    </tr>\n",
       "    <tr>\n",
       "      <th>6</th>\n",
       "      <td>San Francisco International Airport</td>\n",
       "      <td>Frankfurt Airport</td>\n",
       "      <td>10668</td>\n",
       "      <td>N783UA</td>\n",
       "      <td>US</td>\n",
       "    </tr>\n",
       "    <tr>\n",
       "      <th>5</th>\n",
       "      <td>Chicago O'Hare International Airport</td>\n",
       "      <td>Liege Airport</td>\n",
       "      <td>11262</td>\n",
       "      <td>TF-ISH</td>\n",
       "      <td>IS</td>\n",
       "    </tr>\n",
       "    <tr>\n",
       "      <th>2</th>\n",
       "      <td>Aeroport Geneve-Cointrin</td>\n",
       "      <td>Dublin Airport</td>\n",
       "      <td>11582</td>\n",
       "      <td>HB-JBI</td>\n",
       "      <td>CH</td>\n",
       "    </tr>\n",
       "    <tr>\n",
       "      <th>1</th>\n",
       "      <td>Roma Ciampino Airport</td>\n",
       "      <td>Liverpool John Lennon Airport</td>\n",
       "      <td>11582</td>\n",
       "      <td>EI-ENC</td>\n",
       "      <td>IE</td>\n",
       "    </tr>\n",
       "    <tr>\n",
       "      <th>3</th>\n",
       "      <td>Amsterdam Airport Schiphol</td>\n",
       "      <td>Philadelphia International Airport</td>\n",
       "      <td>11582</td>\n",
       "      <td>N819AN</td>\n",
       "      <td>US</td>\n",
       "    </tr>\n",
       "    <tr>\n",
       "      <th>0</th>\n",
       "      <td>Cancun International Airport</td>\n",
       "      <td>Poznan-Lawica Airport</td>\n",
       "      <td>12496</td>\n",
       "      <td>SP-LRE</td>\n",
       "      <td>PL</td>\n",
       "    </tr>\n",
       "  </tbody>\n",
       "</table>\n",
       "</div>"
      ],
      "text/plain": [
       "                                 Source                         Destination  \\\n",
       "7                      Brussels Airport         Miami International Airport   \n",
       "6   San Francisco International Airport                   Frankfurt Airport   \n",
       "5  Chicago O'Hare International Airport                       Liege Airport   \n",
       "2              Aeroport Geneve-Cointrin                      Dublin Airport   \n",
       "1                 Roma Ciampino Airport       Liverpool John Lennon Airport   \n",
       "3            Amsterdam Airport Schiphol  Philadelphia International Airport   \n",
       "0          Cancun International Airport               Poznan-Lawica Airport   \n",
       "\n",
       "     alt reg_number flag  \n",
       "7  10347     N378CX   US  \n",
       "6  10668     N783UA   US  \n",
       "5  11262     TF-ISH   IS  \n",
       "2  11582     HB-JBI   CH  \n",
       "1  11582     EI-ENC   IE  \n",
       "3  11582     N819AN   US  \n",
       "0  12496     SP-LRE   PL  "
      ]
     },
     "execution_count": 4,
     "metadata": {},
     "output_type": "execute_result"
    }
   ],
   "source": [
    "pt.show_frame(planes['flyovers'])"
   ]
  }
 ],
 "metadata": {
  "kernelspec": {
   "display_name": "Python 3 (ipykernel)",
   "language": "python",
   "name": "python3"
  },
  "language_info": {
   "codemirror_mode": {
    "name": "ipython",
    "version": 3
   },
   "file_extension": ".py",
   "mimetype": "text/x-python",
   "name": "python",
   "nbconvert_exporter": "python",
   "pygments_lexer": "ipython3",
   "version": "3.9.12"
  }
 },
 "nbformat": 4,
 "nbformat_minor": 5
}
